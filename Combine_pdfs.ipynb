{
 "cells": [
  {
   "cell_type": "code",
   "execution_count": 1,
   "metadata": {},
   "outputs": [],
   "source": [
    "# mypath = 'Z:/Информационные материалы/Недвижимость/Книги, справочники, статьи для корректировок'\n",
    "mypath = 'C:/Users/svasiliev/Downloads/Документы аудит 2021 недвижимость/Выписки'\n",
    "# 'C:/Users/svasiliev/PycharmProjects/pythonProject/docs'"
   ]
  },
  {
   "cell_type": "code",
   "execution_count": 2,
   "metadata": {},
   "outputs": [],
   "source": [
    "from os import listdir\n",
    "from os.path import isfile, join\n",
    "import os\n",
    "from PyPDF2 import PdfFileReader, PdfFileWriter"
   ]
  },
  {
   "cell_type": "code",
   "execution_count": 3,
   "metadata": {},
   "outputs": [],
   "source": [
    "onlyfiles = [f for f in listdir(mypath) if isfile(join(mypath, f))]"
   ]
  },
  {
   "cell_type": "code",
   "execution_count": 4,
   "metadata": {},
   "outputs": [],
   "source": [
    "all_files = []\n",
    "\n",
    "for dirpath, _, filenames in os.walk(mypath):\n",
    "    \n",
    "    for i in filenames:\n",
    "        \n",
    "        file_full_path = os.path.abspath(os.path.join(dirpath, i))\n",
    "        \n",
    "        if file_full_path.lower().endswith('.pdf'):\n",
    "            all_files.append(file_full_path)\n",
    "        else:\n",
    "            pass\n",
    "        \n",
    "all_files.sort(key = str.lower)\n",
    "\n",
    "pdfWriter = PdfFileWriter()\n",
    "\n",
    "\n",
    "for files_address in all_files:\n",
    "    pdfFileObj = open(files_address, 'rb')\n",
    "    pdfReader = PdfFileReader(pdfFileObj)\n",
    "\n",
    "    pageObj = pdfReader.getPage(0)\n",
    "    pdfWriter.addPage(pageObj)\n",
    "\n",
    "\n",
    "with open(\"CombinedFirstPages.pdf\", \"wb\") as output:\n",
    "    pdfWriter.write(output)"
   ]
  },
  {
   "cell_type": "code",
   "execution_count": null,
   "metadata": {},
   "outputs": [],
   "source": []
  }
 ],
 "metadata": {
  "kernelspec": {
   "display_name": "Python 3",
   "language": "python",
   "name": "python3"
  },
  "language_info": {
   "codemirror_mode": {
    "name": "ipython",
    "version": 3
   },
   "file_extension": ".py",
   "mimetype": "text/x-python",
   "name": "python",
   "nbconvert_exporter": "python",
   "pygments_lexer": "ipython3",
   "version": "3.8.3"
  }
 },
 "nbformat": 4,
 "nbformat_minor": 4
}
