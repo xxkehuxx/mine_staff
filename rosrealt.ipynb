{
 "cells": [
  {
   "cell_type": "code",
   "execution_count": 1,
   "metadata": {},
   "outputs": [],
   "source": [
    "from bs4 import BeautifulSoup\n",
    "import requests\n",
    "import pandas as pd\n",
    "import time"
   ]
  },
  {
   "cell_type": "code",
   "execution_count": 2,
   "metadata": {},
   "outputs": [],
   "source": [
    "l = 'https://rosrealt.ru/kemerovskaya-oblast/cena/'\n",
    "#    'https://rosrealt.ru/tomskaya-oblast/cena/'\n",
    "#  'https://rosrealt.ru/kemerovskaya-oblast/cena/'\n",
    "links_list = [l + str(i)    for i in range(8, 262)]  \n",
    "data = []"
   ]
  },
  {
   "cell_type": "code",
   "execution_count": 3,
   "metadata": {},
   "outputs": [],
   "source": [
    "for i in links_list:\n",
    "    temp = requests.get(i)\n",
    "    temp = temp.content\n",
    "    soup = BeautifulSoup(temp, 'lxml')\n",
    "     \n",
    "    rows = soup.table.find_all('tr')\n",
    "    for row in rows:\n",
    "        cols = row.find_all(['th', 'td'])\n",
    "        cols_use = [i.text.split('руб.')[0] for i in cols]\n",
    "        data.append(cols_use)\n",
    "        data.append(i)\n",
    "        time.sleep(1)"
   ]
  },
  {
   "cell_type": "code",
   "execution_count": 4,
   "metadata": {},
   "outputs": [],
   "source": [
    "df = pd.DataFrame(data)\n",
    "df.to_excel('kemerovskaya.xlsx')"
   ]
  },
  {
   "cell_type": "code",
   "execution_count": 20,
   "metadata": {},
   "outputs": [],
   "source": []
  },
  {
   "cell_type": "code",
   "execution_count": 27,
   "metadata": {},
   "outputs": [
    {
     "data": {
      "text/plain": [
       "['Томск', '61 295 ', '6 972 565 ', '168 053 ', '40 640 ', '54 470 ']"
      ]
     },
     "execution_count": 27,
     "metadata": {},
     "output_type": "execute_result"
    }
   ],
   "source": [
    "[i.text.split('руб.')[0] for i in cols]"
   ]
  },
  {
   "cell_type": "code",
   "execution_count": 13,
   "metadata": {},
   "outputs": [
    {
     "data": {
      "text/plain": [
       "[]"
      ]
     },
     "execution_count": 13,
     "metadata": {},
     "output_type": "execute_result"
    }
   ],
   "source": [
    "rows = soup.find_all('div', {'class' : 'info_over'})"
   ]
  },
  {
   "cell_type": "code",
   "execution_count": null,
   "metadata": {},
   "outputs": [],
   "source": []
  }
 ],
 "metadata": {
  "kernelspec": {
   "display_name": "Python 3",
   "language": "python",
   "name": "python3"
  },
  "language_info": {
   "codemirror_mode": {
    "name": "ipython",
    "version": 3
   },
   "file_extension": ".py",
   "mimetype": "text/x-python",
   "name": "python",
   "nbconvert_exporter": "python",
   "pygments_lexer": "ipython3",
   "version": "3.8.3"
  }
 },
 "nbformat": 4,
 "nbformat_minor": 4
}
