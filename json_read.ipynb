{
 "cells": [
  {
   "cell_type": "code",
   "execution_count": 10,
   "metadata": {},
   "outputs": [],
   "source": [
    "path = 'C:/Users/svasiliev/Downloads/data-111186-2021-01-08/data-111186-2021-01-08.json'\n",
    "import json"
   ]
  },
  {
   "cell_type": "code",
   "execution_count": 15,
   "metadata": {},
   "outputs": [],
   "source": [
    "with open(path, mode = 'r') as file:\n",
    "    data = json.load(file)"
   ]
  },
  {
   "cell_type": "code",
   "execution_count": 36,
   "metadata": {},
   "outputs": [],
   "source": [
    "keys = [line.keys() for line in data][0]"
   ]
  },
  {
   "cell_type": "code",
   "execution_count": 37,
   "metadata": {},
   "outputs": [
    {
     "data": {
      "text/plain": [
       "dict_keys(['is_deleted', 'global_id', 'system_object_id', 'ID', 'AISID', 'ObjectNameOnDoc', 'ObjectName', 'EnsembleNameOnDoc', 'EnsembleName', 'AdmArea', 'District', 'Location', 'SecurityStatus', 'Category', 'ObjectType', 'signature_date', 'Addresses', 'geoData', 'geodata_center'])"
      ]
     },
     "execution_count": 37,
     "metadata": {},
     "output_type": "execute_result"
    }
   ],
   "source": [
    "keys"
   ]
  },
  {
   "cell_type": "code",
   "execution_count": 39,
   "metadata": {},
   "outputs": [
    {
     "data": {
      "text/plain": [
       "{'is_deleted': 0,\n",
       " 'global_id': 1073249677,\n",
       " 'system_object_id': '',\n",
       " 'ID': '000002134',\n",
       " 'AISID': '8ce30736-56f9-11e2-965f-005056806bb6',\n",
       " 'ObjectNameOnDoc': '- Службы, первая треть XIX в., 1903 г., архитектор Б.Н.Шнауберт',\n",
       " 'ObjectName': '',\n",
       " 'EnsembleNameOnDoc': 'Городская усадьба Шнаубертов, вторая половина XVIII-XIX вв., 1903 г., архитектор Б.Н.Шнауберт',\n",
       " 'EnsembleName': '',\n",
       " 'AdmArea': 'Центральный административный округ',\n",
       " 'District': 'Басманный район',\n",
       " 'Location': [{'is_deleted': 0,\n",
       "   'global_object_id': 1073249677,\n",
       "   'global_id': 1,\n",
       "   'system_object_id': '',\n",
       "   'Address': 'город Москва, Хохловский переулок, дом 3, строение 3',\n",
       "   'UNOM': '2121655.0',\n",
       "   'KAD_CC': '77:01:0001026:1025'}],\n",
       " 'SecurityStatus': 'объект культурного наследия',\n",
       " 'Category': 'регионального значения',\n",
       " 'ObjectType': 'Здание',\n",
       " 'signature_date': '28.12.2020 16:57:26',\n",
       " 'Addresses': 'город Москва, Хохловский переулок, дом 3, строение 3',\n",
       " 'geoData': {'geometries': [{'coordinates': [[[37.6411218047927,\n",
       "       55.7556102381554],\n",
       "      [37.6412525043267, 55.7556370331081],\n",
       "      [37.6413958595865, 55.7556400118027],\n",
       "      [37.6414019833714, 55.7555717436932],\n",
       "      [37.6411788502039, 55.755529337147],\n",
       "      [37.6411737973351, 55.7555366127565],\n",
       "      [37.6411685511668, 55.7555441688176],\n",
       "      [37.6411634281794, 55.7555514346273],\n",
       "      [37.6411583923411, 55.755558576389],\n",
       "      [37.6411529857026, 55.7555662431089],\n",
       "      [37.6411479514467, 55.755573383072],\n",
       "      [37.6411426181206, 55.7555810640779],\n",
       "      [37.6411376523862, 55.7555882147399],\n",
       "      [37.6411325947532, 55.7555954984367],\n",
       "      [37.641127353318, 55.7556030464069],\n",
       "      [37.6411218047927, 55.7556102381554]]],\n",
       "    'type': 'Polygon'},\n",
       "   {'coordinates': [[37.6412680446818, 55.7555914560616]],\n",
       "    'type': 'MultiPoint'}],\n",
       "  'type': 'GeometryCollection'},\n",
       " 'geodata_center': {'type': 'geometry',\n",
       "  'value': '010100000069F03F1215D24240F7758838B7E04B40'}}"
      ]
     },
     "execution_count": 39,
     "metadata": {},
     "output_type": "execute_result"
    }
   ],
   "source": [
    "data[0]"
   ]
  },
  {
   "cell_type": "code",
   "execution_count": null,
   "metadata": {},
   "outputs": [],
   "source": []
  }
 ],
 "metadata": {
  "kernelspec": {
   "display_name": "Python 3",
   "language": "python",
   "name": "python3"
  },
  "language_info": {
   "codemirror_mode": {
    "name": "ipython",
    "version": 3
   },
   "file_extension": ".py",
   "mimetype": "text/x-python",
   "name": "python",
   "nbconvert_exporter": "python",
   "pygments_lexer": "ipython3",
   "version": "3.8.3"
  }
 },
 "nbformat": 4,
 "nbformat_minor": 4
}
